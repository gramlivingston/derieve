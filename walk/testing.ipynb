{
 "metadata": {
  "language_info": {
   "codemirror_mode": {
    "name": "ipython",
    "version": 3
   },
   "file_extension": ".py",
   "mimetype": "text/x-python",
   "name": "python",
   "nbconvert_exporter": "python",
   "pygments_lexer": "ipython3",
   "version": "3.7.9-final"
  },
  "orig_nbformat": 2,
  "kernelspec": {
   "name": "Python 3.7.9 64-bit ('Art1512': conda)",
   "display_name": "Python 3.7.9 64-bit ('Art1512': conda)",
   "metadata": {
    "interpreter": {
     "hash": "8a9ee9477748b9eb4586e1c8cea3e34f71ab4ea972e6ebe75411973c578029a1"
    }
   }
  }
 },
 "nbformat": 4,
 "nbformat_minor": 2,
 "cells": [
  {
   "cell_type": "code",
   "execution_count": 2,
   "metadata": {},
   "outputs": [],
   "source": [
    "# Dependencies\n",
    "from bs4 import BeautifulSoup\n",
    "import requests\n",
    "import re\n",
    "from urllib.request import Request, urlopen"
   ]
  },
  {
   "cell_type": "code",
   "execution_count": 5,
   "metadata": {},
   "outputs": [
    {
     "output_type": "stream",
     "name": "stdout",
     "text": [
      "Morbid Angel\n"
     ]
    }
   ],
   "source": [
    "band1 = \"Cannibal Corpse\" \n",
    "band2 = \"Death\"\n",
    "band3 = \"Morbid Angel\"\n",
    "\n",
    "print (band3)"
   ]
  },
  {
   "cell_type": "code",
   "execution_count": 35,
   "metadata": {
    "tags": []
   },
   "outputs": [
    {
     "output_type": "stream",
     "name": "stdout",
     "text": [
      "<p>We've detected that JavaScript is disabled in your browser. Would you like to proceed to legacy Twitter?</p>\n"
     ]
    }
   ],
   "source": [
    "number = 15\n",
    "search = \"UIC\"\n",
    "article = []\n",
    "results = 100 # valid options 10, 20, 30, 40, 50, and 100\n",
    "page = requests.get(f\"https://www.google.com/search?q={search}&num={results}&pws=0\")\n",
    "soup = BeautifulSoup(page.content, \"html.parser\")\n",
    "links = soup.findAll(\"a\")\n",
    "for link in links :\n",
    "    link_href = link.get('href')\n",
    "    if \"url?q=\" in link_href and not \"webcache\" in link_href:\n",
    "        article.append((link.get('href').split(\"?q=\")[1].split(\"&sa=U\")[0]))\n",
    "\n",
    "page = requests.get(f'{article[number]}')\n",
    "soup = BeautifulSoup(page.text, 'html.parser')\n",
    "text = (soup.p)\n",
    "print(text)"
   ]
  },
  {
   "cell_type": "code",
   "execution_count": 26,
   "metadata": {},
   "outputs": [
    {
     "output_type": "stream",
     "name": "stdout",
     "text": [
      "https://external-preview.redd.it/tr1BlYA4EblgQMK2-FGtjyELnMYeeytxmswjjPn8DHA.png?width=640&crop=smart&auto=webp&s=36fa688903cd1e374367949a8634712942b2b731\n"
     ]
    }
   ],
   "source": [
    "print (imglist[0])\n"
   ]
  },
  {
   "cell_type": "code",
   "execution_count": 40,
   "metadata": {
    "tags": []
   },
   "outputs": [
    {
     "output_type": "stream",
     "name": "stdout",
     "text": [
      "University of Illinois Pathology Laboratories provides laboratory services for patient care with excellence.  Excellence can be defined as the availability of a complete selection of laboratory tests performed by a qualified technical staff producing accurate and timely reporting of results.  Over 800 different laboratory analyses are available.  New tests and advanced technology are continually being developed and placed into service.  Test result accuracy is assured by ongoing quality control programs for all tests as well as external proficiency testing comparing our laboratory with numerous others.  Stat services for selected tests are available on a 24-hour basis.  Our staff of full-time technologists is committed to performing accurate and efficient laboratory testing thereby enabling the medical staff to provide optimal patient care.  \n"
     ]
    }
   ],
   "source": [
    "#Set up list\n",
    "gallery = \"gallery&400\"\n",
    "UIC = 'UIC'\n",
    "chicago = 'chicago'\n",
    "usa = 'usa'\n",
    "\n",
    "\n",
    "\n",
    "#get number\n",
    "number = 40\n",
    "\n",
    "\n",
    "\n",
    "\n",
    "#move through list\n",
    "search = UIC\n",
    "article = []\n",
    "results = 100 # valid options 10, 20, 30, 40, 50, and 100\n",
    "page = requests.get(f\"https://www.google.com/search?q={search}&num={results}&pws=0\")\n",
    "soup = BeautifulSoup(page.content, \"html.parser\")\n",
    "links = soup.findAll(\"a\")\n",
    "for link in links :\n",
    "    link_href = link.get('href')\n",
    "    if \"url?q=\" in link_href and not \"webcache\" in link_href:\n",
    "        article.append((link.get('href').split(\"?q=\")[1].split(\"&sa=U\")[0]))\n",
    "\n",
    "page = requests.get(f'{article[number]}')\n",
    "soup = BeautifulSoup(page.text, 'html.parser')\n",
    "text = soup.find('p').getText()\n",
    "print(text)\n",
    "\n"
   ]
  },
  {
   "cell_type": "code",
   "execution_count": 60,
   "metadata": {
    "tags": []
   },
   "outputs": [
    {
     "output_type": "stream",
     "name": "stdout",
     "text": [
      "[]\n"
     ]
    }
   ],
   "source": [
    "page = requests.get(\"https://www.google.com/search?q=nba&rlz=1C1CHBF_enUS890US890&oq=nba&aqs=chrome..69i57j0l6.1406j1j4&sourceid=chrome&ie=UTF-8#sie=lg;/g/11h0yj414v;3;/m/05jvx;mt;fp;1;;\")\n",
    "\n",
    "soup = BeautifulSoup(page.content, \"html.parser\")\n",
    "li = soup.findAll(\"p\")\n",
    "print(li)\n",
    "\n"
   ]
  },
  {
   "cell_type": "code",
   "execution_count": 10,
   "metadata": {},
   "outputs": [
    {
     "output_type": "stream",
     "name": "stdout",
     "text": [
      "7\n"
     ]
    }
   ],
   "source": []
  },
  {
   "cell_type": "code",
   "execution_count": null,
   "metadata": {},
   "outputs": [],
   "source": []
  }
 ]
}