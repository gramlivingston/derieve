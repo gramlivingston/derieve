{
 "metadata": {
  "language_info": {
   "codemirror_mode": {
    "name": "ipython",
    "version": 3
   },
   "file_extension": ".py",
   "mimetype": "text/x-python",
   "name": "python",
   "nbconvert_exporter": "python",
   "pygments_lexer": "ipython3",
   "version": "3.7.9-final"
  },
  "orig_nbformat": 2,
  "kernelspec": {
   "name": "Python 3.7.9 64-bit ('Art1512': conda)",
   "display_name": "Python 3.7.9 64-bit ('Art1512': conda)",
   "metadata": {
    "interpreter": {
     "hash": "8a9ee9477748b9eb4586e1c8cea3e34f71ab4ea972e6ebe75411973c578029a1"
    }
   }
  }
 },
 "nbformat": 4,
 "nbformat_minor": 2,
 "cells": [
  {
   "cell_type": "code",
   "execution_count": 3,
   "metadata": {},
   "outputs": [],
   "source": [
    "# Dependencies\n",
    "from bs4 import BeautifulSoup\n",
    "import requests\n",
    "import re"
   ]
  },
  {
   "cell_type": "code",
   "execution_count": 2,
   "metadata": {
    "tags": []
   },
   "outputs": [
    {
     "output_type": "stream",
     "name": "stdout",
     "text": [
      "\n\n\n\n\n\n\n\n\n\n\n\n\n\n\n\n\n\n\n\n\n\n\n\n\n\n\n\n\n\n\n  \n\n  \nAbout the UIC | University Instrumentation Center\n\n\n\n\n\n\n\n\n\n\nSkip to main content\n\n\n\n\n\n\n\n\n\n\n\n\nUniversity Instrumentation Center\n\nAbout the UICContact UIC\nUIC Mission\nUIC Advisory Board\nUIC User Groups\nGetting Started at the UIC\nProposals & Publications Assistance\n\nInstrumentationBET Surface Area Analyzer - Quantachrome NOVA 2200E BET\nCell Imaging Systems - Thermo Invitrogen EVOS FL Auto 2\nConfocal Microscope - Nikon A1R HD\nConfocal Microscope - Olympus OLS5000 SAF\nDigital Droplet PCR - BioRad QX200\nDNA and Chromatin Shearing System - Q-Sonica Q800R3 D\nElectron Microscope, Scanning - Tescan Lyra3 GMU FIB SEM\nElemental Analyzer- Vario PYRO Cube\nFlow Cytometer Analyzer - Becton-Dickinson FACSCaliburFlow Cytometer at the UIC\n\nFlow Cytometer Sorter - Sony SH800Z\nFourier Transform Infrared Spectrometer - Thermo Nicolet iS10 FT-IR\nImager - Biorad V3 Western Blot\nImaging System - Licor Odyssey CLx\nLight Microscopes\nMass Spectrometer - Thermo Scientific LTQ Orbitrap Velos\nMass Spectrometer - Thermo Scientific LTQ Orbitrap XL\nMass Spectrometer - Thermo Scientific ™ LTQ XL™ Linear Ion Trap\nMass Spectrometer and Elemental Analyzer – GeovisION Solution\nMicro Computed Tomography System (µCT) – Zeiss Versa 610 X-Ray Microscope\nMicroplate Luminometer - Centro LB 960XS\nMicroplate Reader - Molecular Devices SpectraMax M2e/EA\nNuclear Magnetic Resonance Spectroscopy – Varian 400, Bruker 500, Bruker 700 MHz NMR\nPolarimeter - Rudolph Autopol III\nReal-Time PCR System - Applied Biosystems ViiA 7\nX-Ray Photoelectron Spectroscopy - Kratos Axis Supra XPS\n\nEngineering ServicesInstrument Recommendations\nScientific Instrumentation Inventory (SII)\n\nSample Submission Forms/Other Documents\nTraining\nUIC in News and Publications\nExternal training Links\nCovid-19 Processes\nGrants Information\n\n\n\nFollow Us on FacebookFollow Us on Twitter\n\n\nUniversity Instrumentation Center\nParsons Hall, Room W123\nPhone: (603) 862-2790\n\n\n\n\n\n\n\n\n\n\n\n\n\n\n\n\n\nSearch\n\n\n\nToggle navigation\n\n\n\n\n\n\nMyUNH\nunh.edu\n\n\n\n\n\n\n\n\n\n\n\n\n\nUniversity Instrumentation Center\n\n\n Enter your keywords\n\nSearch\n\n\n\n\n\nAbout the UICContact UICUIC MissionUIC Advisory BoardUIC User GroupsGetting Started at the UICProposals & Publications AssistanceInstrumentationBET Surface Area Analyzer - Quantachrome NOVA 2200E BETCell Imaging Systems - Thermo Invitrogen EVOS FL Auto 2Confocal Microscope - Nikon A1R HDConfocal Microscope - Olympus OLS5000 SAFDigital Droplet PCR - BioRad QX200DNA and Chromatin Shearing System - Q-Sonica Q800R3 DElectron Microscope, Scanning - Tescan Lyra3 GMU FIB SEMElemental Analyzer- Vario PYRO CubeFlow Cytometer Analyzer - Becton-Dickinson FACSCaliburFlow Cytometer Sorter - Sony SH800ZFourier Transform Infrared Spectrometer - Thermo Nicolet iS10 FT-IRImager - Biorad V3 Western BlotImaging System - Licor Odyssey CLxLight MicroscopesMass Spectrometer - Thermo Scientific LTQ Orbitrap VelosMass Spectrometer - Thermo Scientific LTQ Orbitrap XLMass Spectrometer - Thermo Scientific ™ LTQ XL™ Linear Ion TrapMass Spectrometer and Elemental Analyzer – GeovisION SolutionMicro Computed Tomography System (µCT) – Zeiss Versa 610 X-Ray MicroscopeMicroplate Luminometer - Centro LB 960XSMicroplate Reader - Molecular Devices SpectraMax M2e/EANuclear Magnetic Resonance Spectroscopy – Varian 400, Bruker 500, Bruker 700 MHz NMRPolarimeter - Rudolph Autopol IIIReal-Time PCR System - Applied Biosystems ViiA 7X-Ray Photoelectron Spectroscopy - Kratos Axis Supra XPSEngineering ServicesInstrument RecommendationsScientific Instrumentation Inventory (SII)Sample Submission Forms/Other DocumentsTrainingUIC in News and PublicationsExternal training LinksCovid-19 ProcessesGrants Information\n\n\n\n\n\n\n\n\n \n\n\n\n\n\nAbout the UIC\n\n\n\n \n\n\n\n\n\n\n\n\nThe University Instrumentation Center is a University-wide core facility dedicated to the advancement of the research and academic missions of UNH and the surrounding research community. The UIC is open and available to all faculty, staff, and students as well as non-UNH academic entities, government, and industrial customers.\nOur mission \nThe mission of the University Instrumentation Center (UIC) is to support the research, teaching, and engagement missions of the University of New Hampshire (UNH) by providing access to the best analytical instruments, scientists, and engineers.\nKey services include\nExpert analysis of research and industrial samples\nTraining in scientific instrument operation and data analysis\nMaintenance, repair, and calibration of instruments\nSpecialty instrument engineering design and application services\nFacilitation of access to scientific instruments throughout the university\nJoin the many industrial customers, educational institutes, and government entities who use our analytical and scientific services.\n \n\n\n\n\n\n\n\n\n\nView UIC Knowledge Base\nThe Knowledge Base contains forms, instruction and training material, minutes, policies, tools and other resources to support your research efforts by topic area.\nContact Information\nShawn Banker\nW123 Parsons Hall\nPhone: (603) 862-3597\nEmail: shawn.banker@unh.edu\n \n\n\n\n\n\n\n\n\n\n\n\n\nAbout the UIC\n\nContact UIC\nUIC Mission\nUIC Advisory Board\nUIC User Groups\nGetting Started at the UIC\nProposals & Publications Assistance\n\n\n\n\n\n\n\n\n\n\nContact Us\nUniversity Instrumentation Center\nParsons Hall, Room W123\nPhone: (603) 862-2790\n\n\n\n\n\nQuicklinks\nGetting Started\nInstrumentation Recommendation\n\n\n\n\n\nFollow Us on FacebookFollow Us on Twitter\n\n\nGIVE | UNH.EDU | COLLEGE HOME\n \nCopyright © 2020  •  TTY Users: 7-1-1 or 800-735-2964 (Relay NH)\nUSNH Privacy Policies  •  USNH Terms of Use  •  ADA Acknowledgment\n\n\n\n\n\n\n\n\n\n\n\n\n\n\n  \n\n  \n\n\n\n\n\n"
     ]
    }
   ],
   "source": [
    "#Set up list\n",
    "gallery = \"gallery&400\"\n",
    "\n",
    "UIC = 'UIC'\n",
    "\n",
    "chicago = 'chicago'\n",
    "\n",
    "usa = 'usa'\n",
    "\n",
    "\n",
    "#get number\n",
    "number = 40\n",
    "\n",
    "#move through list\n",
    "search = UIC\n",
    "article = []\n",
    "results = 100 # valid options 10, 20, 30, 40, 50, and 100\n",
    "page = requests.get(f\"https://www.google.com/search?q={search}&num={results}\")\n",
    "soup = BeautifulSoup(page.content, \"html.parser\")\n",
    "links = soup.findAll(\"a\")\n",
    "for link in links :\n",
    "    link_href = link.get('href')\n",
    "    if \"url?q=\" in link_href and not \"webcache\" in link_href:\n",
    "        article.append((link.get('href').split(\"?q=\")[1].split(\"&sa=U\")[0]))\n",
    "\n",
    "page = requests.get(f'{article[number]}')\n",
    "soup = BeautifulSoup(page.text, 'html.parser')\n",
    "print(soup.text)\n",
    "\n"
   ]
  },
  {
   "cell_type": "code",
   "execution_count": null,
   "metadata": {},
   "outputs": [],
   "source": []
  }
 ]
}