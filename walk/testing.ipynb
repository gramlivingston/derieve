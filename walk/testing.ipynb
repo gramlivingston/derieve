{
 "metadata": {
  "language_info": {
   "codemirror_mode": {
    "name": "ipython",
    "version": 3
   },
   "file_extension": ".py",
   "mimetype": "text/x-python",
   "name": "python",
   "nbconvert_exporter": "python",
   "pygments_lexer": "ipython3",
   "version": "3.7.9-final"
  },
  "orig_nbformat": 2,
  "kernelspec": {
   "name": "Python 3.7.9 64-bit ('Art1512': conda)",
   "display_name": "Python 3.7.9 64-bit ('Art1512': conda)",
   "metadata": {
    "interpreter": {
     "hash": "8a9ee9477748b9eb4586e1c8cea3e34f71ab4ea972e6ebe75411973c578029a1"
    }
   }
  }
 },
 "nbformat": 4,
 "nbformat_minor": 2,
 "cells": [
  {
   "cell_type": "code",
   "execution_count": 78,
   "metadata": {},
   "outputs": [],
   "source": [
    "# Dependencies\n",
    "from bs4 import BeautifulSoup\n",
    "import requests\n",
    "import re\n",
    "from urllib.request import Request, urlopen\n",
    "from urllib.parse import urlencode, urlunparse\n",
    "\n",
    "import time"
   ]
  },
  {
   "cell_type": "code",
   "execution_count": 66,
   "metadata": {},
   "outputs": [
    {
     "output_type": "stream",
     "name": "stdout",
     "text": [
      "Collecting scraperapi-sdk\n  Using cached scraperapi_sdk-0.2.2-py3-none-any.whl (2.4 kB)\nInstalling collected packages: scraperapi-sdk\nSuccessfully installed scraperapi-sdk-0.2.2\nNote: you may need to restart the kernel to use updated packages.\n"
     ]
    }
   ],
   "source": [
    "pip install scraperapi-sdk"
   ]
  },
  {
   "cell_type": "code",
   "execution_count": 71,
   "metadata": {
    "tags": [
     "outputPrepend"
    ]
   },
   "outputs": [
    {
     "output_type": "stream",
     "name": "stdout",
     "text": [
      "Bm3+Sy23+SPxmJ302/eE5jhpnfaAeoKVUJiKmJH4rcf5qIU1u3HsowxlIzcyA+gK3NXDGPdMyfEq0aIx7KRqijnT0LYmcUmGgeK5VUwf7LNmDktZ6h8hy92fLwTV700ml4Q7aNXnJXSBu65NGSnlPHuEkVrFQ+o2ckQTemZgZThbYLEWQlVV56T6+g6TI9KMt1K+ldWU9MZi53HiQMyfDbi+CtVebtU/ygoP7Wov8ASTHS4dd6ntukbc2ruJc58ruGCnj+nK7vx4Ad5/4CrCm17ri/h1TYNMwmjB2c6N7wfLjJaCfQJl/CJfM7WtBHOXClbQsMeOW738R9dh+4K8qSjpIrdTMtzYxRNhb1Aj+jwY9nH3KUopehWin7N0qyxXL9HaqtnYJQ7gfIwOb1Z/WY7cDzB+5WDer5RWK1yXG4TcNOwDHDuXk8g0d5KG61teip6+GTVbqFlX1WIzNUGNxZnyIyM5+KgvTg3qrTp6OgINs4X9WWHLThrODfv9knClwUpLFguLTtF0l6qvtRI3S2nWPhjOOKRrpMepBa0HyW1P0rXa1XAUWrrGIDzc6AFjgD9YNcSHD0IU16P4KRmjLR2AN6p1O1zi3vefp58+LKxq+g0xUwUx1X2RsbXEQOnlMZzjcAgg+HwRyjuYGrrA1SVsNdSQ1VJIJYJmB8bxycCq+150kyacvIttvpIKp8cYdO6Vx9hx3DRg+GD96lAr7JpzRklxtToX2uljcYBFJxte7iI4QSTzecKqujassM96ut51jcadss7XsZHMCeMyZ43cjjbYepRXBNts5GPst3Ql/j1TYYrgxjY5g4xzxNORG8fkRgj1UvpYeWy8/dE99ptOa8qLMysbU2qvlMEU4OGlwJ6t+/LOeE+vkvSDGBowFVVpMdRMtGBhZSSVRhKob30a32u6VY9Twy0QoG11NUFrpXCThj4OIY4cZ9k43VvJIAinSDoeg1rbGQVLzT1cGTT1TW5LCeYI72nA28gq5odJ9LWmoBb7HdqaWiYfdgSRvDR5CVuW+g2V4pIAo+29D9+vd5/SmurrHNlwMkULy+SUD6vFgBjeXLPfy5qyNT6Rt2orK601kXBAAOpdGADC4DDS30G3pspQklcdAoWk0B0i6Ukli0zdqeale7IbxNAPmWSAhp9CfVL+K7WOqLlHVayu8LI2DB6twe8DvDWtAY3Pj8Cr5wPAJYHgEYcKo1/wBH94u1mtVi0x2SntdGMvZPM5rnOGzeTTnvOe8lELT0N6ThttNFcqB1VWNjaJ5xUytD343IAcABnkrISXUsOlNa46FopnUcuiWw0T2Eidk9RIc8i1zSeIgjf4K17G24MtFIy8GI3BsTRUOiJLXPA3IyBz5p8kugJJJJAH//2Q\\x3d\\x3d';var i=['dimg_9'];_setImagesSrc(i,s);})();</script><script nonce=\"l2/joE4yBrFoJL2LL0Gc7w==\">(function(){var s='data:image/jpeg;base64,/9j/4AAQSkZJRgABAQAAAQABAAD/2wCEAAkGBwgHBgkIBwgKCgkLDRYPDQwMDRsUFRAWIB0iIiAdHx8kKDQsJCYxJx8fLT0tMTU3Ojo6Iys/RD84QzQ5OjcBCgoKDQwNGg8PGjclHyU3Nzc3Nzc3Nzc3Nzc3Nzc3Nzc3Nzc3Nzc3Nzc3Nzc3Nzc3Nzc3Nzc3Nzc3Nzc3Nzc3N//AABEIAHAApQMBEQACEQEDEQH/xAAcAAEAAgIDAQAAAAAAAAAAAAAAAQcFBgIDBAj/xAA9EAABAwMBBAcFBgQHAQAAAAABAAIDBAURIQYHEjETIkFRYYGRMjZ0obMUNXFyssEjQmLCFVKCorHR0lT/xAAZAQEAAwEBAAAAAAAAAAAAAAAAAgMEBQH/xAAwEQACAQMCBQMCBAcAAAAAAAAAAQIDBBESITEyM0FREyJxYYEUFULwBVJikbHB4f/aAAwDAQACEQMRAD8AvFAEAQBAEAQBAEAQBAEAQBAEAQBAEAQBAEAQBAEAQEHlogNZrNqD9olio4g5sb+j6QkEOdnBxryByPJaKdvlZkzFXutD0xRztm0v2irgpqqLozP1WSAjHFg9U69uD6eIXlShpWUydC59R4aNbrN7tspKyopX22tc6CV8TiHMwS1xaTz8FdGxm1nJ7K6jF4Zkdld41DtLeG22moaqGR0bpOOQtxhuO4+KrrWsqUdTZKnXjUeEbuFmLwgCAIAgCAIAgCAIAgCAIAgCAICHckBWTLfNQSy0kseXxzk8QptHgvJBBzro4eeV0oTUo7HFuaclNnbb6CWsultjjjLRHMyZ7+gwGNY4u59meqB+KjWmlB57k7Om/Uz/AKKgv339dPjp/qOXQp8i+EeVudm1bm/feL4WX+1Zr3pfcutOcv4LkHSCAIAgCAjOqAZQDKAlAEAQBAEAQBAEBB1CApjaveNeKG/3C3sprfLBTzOjZ0sJcceOq6VG0jKClkwVa7TcWsnp2G3hXe77TUFrnp6GOnnc4P6GEtOjHOGNfBeXFrCEHJM9o13KSjjBW1++/rp8dP8AUct9PkXwZa3OzObtbrSWXaR1wr38EENHKTjm46YaB2kqi6g509K8lltJRk2zJXjertDV1LjbpIqCnz1GNibI7HiXA/IKMLGnFe7clO6k+BmNjd6dbJcIaLaLo5YZnBjaljQxzHHlxAaEeOmFTXskk5Q7FtK5beJGwbzdsrnstU2+O2spnNqGSOf0rC7UFuMYI71Ta28aybkWV6zpYwa9sxvNv112ht1BUR0IhqJ2xvLInA4Pd1ldWs4U4OSfArpXMpySwbBttvLprHNJQWqJtZXM0kcT/CiPcSOZ8B6qmhaSqLMtkWVbiMNkaPS7cbS3GkvU090kaYqRr4mwsawRnpWDIwM8iRqTzWqVtSjKKS7mdV5yTbMGzbbaeN2W3ysz4uB/5CvdtSf6SpV6i7mfsu9e/wBE9ouQhuEI58TRG/H4tGPkqaljTly7FsLuS5i4dmtoKHaO2srre8lhPC+Nww6N3cQuZUpypy0yN0JqayjLqBMIAgCAIAgCAFAfM23fvlefinfsu7b9KJya/UZ7N13v9aPzyfSeo3fRZ7bdRGEv339dPjZ/qOVtPkj8L/BCrzs6bfRVFwrYaOiiMtRM7hjYO0r2UlGLkyME5PCMjtJszdNmpoYrtCxhmaXRvjfxNdjmM94yFXSrQq50k6lKVPiYmKOSWRscLXOkdo1rRqSrWVZxub7vLqX3W2WOpw7jpaXo6ri0IkIb66grJbU3Byz3LqtxCrhR4mi0VXNQ1UdVSydHPEeJjx/Ke9apRUlhlcZOLyj2WKx3K/1v2S107p5fae4nAYO9zuxQnVjTjmRKEJVJbFpWLdQ6moqyO5XTr1cIie2nj0Zh7XaF3P2e5c6peZacVwNsLbCw2ea6bm4207nWq6SOnAy1lS0cLj3ZbyU4X7z7kRlaLHtKoqIZaaolp52FksTyx7T/ACuBwR6hdJNSWTDJOLwyxNx9bJHtFWUXEeinpTIW/wBTXDB9HFYb+KcEzXZy9zRdy5Z0AgCAIAgCAIAgPmbbv3yvXxTv2Xdt+lE5NfqM9m673+tH55PpPUbvos9tuojCX/7+unx0/wBRytp8i+CFbnZtO5xodtxDkZxTSkeHJZr7pF1ovebVv4AFBaDjXppNf9IWf+H80i675UV5R0dRDYTV0bC6oqJej4mc2M5ad2TzXSb3OZqTnhmW2roamntdjpXTxcFXCZOkfIMYYG6l3LtyqqdRSk0uxKNFwSqS7mCuFJT2kMjeBVVEkfGH5xGwHuA1Pn6K5bnkZOW6Lx3eWqnsGx1K+TgjkmjFTUyO01Izqe4DA8lxLibqVWdijBQgartJveEUr4NnaRkzWnAqqjPC78rBg48SR+C0UrHO82U1LpLaJpdbvF2rq3Em6ugb/lp42sA+WfmtcbOkuxndzUZrU88tTPJUTyOkllcXve45LieZK0JYWEZ223lm8blvfR3wUn6mLHfdI1WfOXyuSdIIAgCAIAgCAID5m2798r18U79l3bfpROTX6jPZuu9/rR+eT6T1G76LPbbqIwl++/rp8dP9Rytp8i+CFbnZtW5v33i+Fl/tWa+6Rdac5t2/CCWqp7LDAwve+eQAD8oWew2k2XXrxBNmn7P1NLG2S0GXpHxZGXcpM+0B4LoYZxqsW/cj27UUrrrSWeFkIEFsgdEI2HWRvV4QM8vZ1VVOCpuX1L3d64pS4o1ertdS4y1t3c2mhA9kOBcQBgNaFengKa4R3LG3r3aSj2QtFsgcWNrWNMmNMxtaOr6kei5lpTUqrk+x0q8nGmkU8TpkrqnPLv2K3bWmmttNWXmnbW1kzGyOZLrHHkZwG9uO8rkV7ucpNR2R06VvFRyyodoOg/x+5ila1sAq5RG1gwA0OIAHgunSzoWfBz6mNbwbbuV99H/AyfqYs990i+05y+AuQdIIAgCAIAgCAID5m2798r18U79l3bfpROTX6jPZuu9/rR+eT6T1G76LPbbqIwl++/rp8bP9Ryup8i+CFbnZtW5v33i+Fl/ZZb7pF1pzllbwRxSUGWZ4Q8tdjlnGQs1lxkV/xNyxFLgVLcrZarZUPqKiqlc/iL2U7HAOJ/HmAuluZITlJcDM7Y10tss+zlTbwIX3Ci6abPW63V5Z/MVRQk5SmpdjRVtqcYxaXE0SurKit4n1UzpHYPtHktKSIRio8EWjvfopH7OWCua0lkLRE8gcuJgI/SubZSxUkjfdLMEyqdMYPJdMwG9t3pXxtjZbY4adszYhEKvJ4sAYzjlnHasX4KGvVk1/ipacGiva5hxI1zXEA9YanOufNbFjsZZZzub1uWONtDntopP1MWS+6X3NNpzl9DkuQdIIAgCAIAgCAgoCq9oN1NVd73XXFl3hibUymQMdASW57M8S3U73RFR0mSpa6pZyd2ym7CpsG0NFdZLtDO2mc4mNsBaXZY5vPiPevKt56kHHSKdvolqyeG4boausuFXVC9QNE88koaadx4eJxOPa8VON/pilpIztdUs5MvsTu5qNmb8y5SXOGoa2J8fRthLT1sa5ye5V17r1YacYLKND05ZyZjb7ZSo2pgo46avbRmne5xcWF3ECMY0I7lVb11Sb2ySrUvUSRpJ3M1hyTfYCTzP2Z2v+5avzBfylH4TwzO7R7uai9W2x0jLnDCbZS9A5xhJ6Q4bqNdPZVVK70Sk8cS2pQ1pLPAwJ3L1haQL5T5I/+Z3/AKV35h/SVK0+pac9op62yi13CNs8DoWxPadAcADI7uS56k4y1I2aU44ZVF23O3COdxs9wppoCeq2qLmPH4lrSD8l0YX6/WjFKzefaz27N7oXRVLJtoquGWNhz9mpslr/AAc4gHHgB5qFW/bWIInTtdLzI9m1G6ya9X6quNPdIaaKbh4YTTk8OGhvMEdyjRvfTgotZPaltrlnJ37G7uKzZq/w3I3WGdjGOY+NsBaXNI78ntwo17tVYacHtK3dOWclkjksZqCAIAgCAIAgIKAwktTOyUnpHdGSGfgTIQD6DHorVFGVzkvj/pycXCRjRLIQ6eRvWlI0HLVebY/sSy9S37s6ulquN3DI8Ey5bl2eLEhGPAdnmvcRIqU/38nZDVyTSQHjkMRLmuI/qcQM+IwB5rxxSJKblgiOR4jga6aQNexhe4u11d3/ACRpM8i5bL4ODaqdj8mZxi6jAT2fxHAHzAwvcJninJbndS1chmaJXua10vGOPTqlpx5aKLSxsSjN538mXGoUDQckBCAICUBGEBKAIAgCAIAgCAg8kBjTcIfZYxrnnPUDhoQ4AZ8ypaWU+rEh1USQH0zDgPLutyLefZ4r3A1/Tyd1LUNmcwFjMuYXgscHAaj/ALXkk0SjLOCftDRXClEY1Zxkg8vJeY2yNS16Tz1NfHFJNE6FrhGDkZHY0O1HdqpKL4kZTWWsHNtUHSMibFE7iaD1ZBjGTy01xjyXmD3V2IFUHGJs1O0cchYMHiDcHGeXfp5pp8HmvhlEuuIZHG4RjrtBHE7AGuNSijk9dTBy/wASbwg9G45hMvP5eeD6L3QPV+nbIFe54YYYuIOLR1nY5j8F5p8j1M8Ee8ctVEtJQBAEAQBAEAQBAEBB5IDHS00IYSZgzo89YkdUlwdr8lLUypwiQ2GE8LDUNdI5jzzHW4+Zx5JlnmlefJEYYwRzCtj4Wjg4gG4dy05+C9y+GAklh5OU1JG+rbOZuH+IDjTUgcs92OzzRSaXA9cE5ZycJqelqulLahuXklzmkE+zwkfuvE2jxxjLuc+hZMY3mra9oPFgAYPCc6d3in2PdKfc5ut0b+s5xJBLmH/KeLiyPl6JqYdNMNtoDm8UrnNYRwNI5AHOD3pqPfTOJtMRacvdx8g/GoGMY+ZTUeKkkdsdAxj3OD3YdIJMdxAwjkz1U0j2KJYEAQBAEAQBAEAQBAQeSAwxgnD5JHxuIldx9QZc0g6Ejt0x6KeUZ9LTb8nF0E7mcIp+B74yHDhHCOoQCD/KezCZGH4Owxu6XpvsjzGcjo+HXPDjOO7sTsMPOcfvBEtPUuflkQAjf0gB7ThowPQhe6lgOMm8omellMRDYs9aU47wTp6pncaHjb6nVPSzPdNNFA4HrljTodQ0EeeCiaPHF5bSM1GMMaO4Ks0Lgc0PQgCAIAgCAIAgCAIAgCAIAgIwgIwgHCh5gnCHowgGAgJQBAEAQBAEAQBAEAQBAf/Z';var i=['dimg_11'];_setImagesSrc(i,s);})();</script><script nonce=\"l2/joE4yBrFoJL2LL0Gc7w==\">(function(){var s='data:image/png;base64,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';var i=['dimg_13'];_setImagesSrc(i,s);})();</script><script nonce=\"l2/joE4yBrFoJL2LL0Gc7w==\">(function(){var s='data:image/png;base64,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\\x3d';var i=['dimg_15'];_setImagesSrc(i,s);})();</script><script nonce=\"l2/joE4yBrFoJL2LL0Gc7w==\">(function(){var s='data:image/jpeg;base64,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\\x3d\\x3d';var i=['dimg_1'];_setImagesSrc(i,s);})();</script><script nonce=\"l2/joE4yBrFoJL2LL0Gc7w==\">(function(){var e='zyiRX--1Ocbq-gS6-4ewCQ';(function(){\nvar a=e;2==(window.performance&&window.performance.navigation&&window.performance.navigation.type)&&window.ping(\"/gen_204?ct=backbutton&ei=\"+a);}).call(this);})();(function(){\nvar b=[function(){google.tick&&google.tick(\"load\",\"dcl\")}];google.dclc=function(a){b.length?b.push(a):a()};function c(){for(var a;a=b.shift();)a()}window.addEventListener?(document.addEventListener(\"DOMContentLoaded\",c,!1),window.addEventListener(\"load\",c,!1)):window.attachEvent&&window.attachEvent(\"onload\",c);}).call(this);(function(){(function(){google.csct={};google.csct.ps='AOvVaw2O7tyLdqRZkrj1fC9LumFG\\x26ust\\x3d1603435087977009';})();})();(function(){(function(){google.csct.rd=true;})();})();google.drty&&google.drty();</script></body></html>\n"
     ]
    }
   ],
   "source": [
    "from scraper_api import ScraperAPIClient\n",
    "client = ScraperAPIClient('4b36e29b5a6099e5c26b7e5b32062d40')\n",
    "result = client.get(url = 'https://www.google.com/search?q=UIC&num=20&pws=0', headers = {\"X-MyHeader\": \"123\"}).text\n",
    "print(result);\n",
    "# Scrapy users can simply replace the urls in their start_urls and parse function\n",
    "\n",
    "# Note for Scrapy, you should not use DOWNLOAD_DELAY and\n",
    "# RANDOMIZE_DOWNLOAD_DELAY, these will lower your concurrency and are not\n",
    "# needed with our API\n",
    "# ...other scrapy setup code\n",
    "start_urls =[client.scrapyGet(url = 'https://www.google.com/search?q=UIC&num=20&pws=0', headers={\"X-MyHeader\": \"123\"})]\n",
    "def parse(self, response):\n",
    "\n",
    "# ...your parsing logic here\n",
    "    yield scrapy.Request(client.scrapyGet(url = 'https://www.google.com/search?q=UIC&num=20&pws=0', headers={\"X-MyHeader\": \"123\"}), self.parse)"
   ]
  },
  {
   "cell_type": "code",
   "execution_count": 83,
   "metadata": {
    "tags": []
   },
   "outputs": [
    {
     "output_type": "error",
     "ename": "IndentationError",
     "evalue": "unexpected indent (<ipython-input-83-82ff9da93b9c>, line 39)",
     "traceback": [
      "\u001b[1;36m  File \u001b[1;32m\"<ipython-input-83-82ff9da93b9c>\"\u001b[1;36m, line \u001b[1;32m39\u001b[0m\n\u001b[1;33m    article.append((link.get('href').split(\"?q=\")[1].split(\"&sa=U\")[0]))\u001b[0m\n\u001b[1;37m    ^\u001b[0m\n\u001b[1;31mIndentationError\u001b[0m\u001b[1;31m:\u001b[0m unexpected indent\n"
     ]
    }
   ],
   "source": [
    "    #Set up list\n",
    "    gallery = \"gallery&400\"\n",
    "    UIC = 'UIC'\n",
    "    chicago = 'chicago'\n",
    "    usa = 'usa'\n",
    "\n",
    "\n",
    "    \n",
    "    \n",
    "    #get number\n",
    "    number = 20\n",
    "\n",
    "\n",
    "\n",
    "\n",
    "    #move through list\n",
    "    #set headers\n",
    "    header = {'User-Agent': \"Mozilla/5.0 (Macintosh; Intel Mac OS X 10.14; rv:65.0) Gecko/20100101 Firefox/65.0\"}\n",
    "    \n",
    "\n",
    "    search = UIC\n",
    "    article = []\n",
    "\n",
    "    results = 20 # valid options 10, 20, 30, 40, 50, and 100\n",
    "\n",
    "    #print(page)\n",
    "    query = \"search\"\n",
    "    url = urlunparse((\"https\", \"www.bing.com\", \"/search\", \"\", urlencode({\"q\": query}), \"\"))\n",
    "    custom_user_agent = \"Mozilla/5.0 (Windows NT 6.1; Win64; x64; rv:47.0) Gecko/20100101 Firefox/47.0\"\n",
    "    req = requests.get(url, headers={\"User-Agent\": custom_user_agent})\n",
    "\n",
    "    soup = BeautifulSoup(req.content, \"html.parser\")\n",
    "    print(soup)\n",
    "    links = soup.findAll(\"a\")\n",
    "    print(links)\n",
    "    for link in links :\n",
    "        link_href = link.get('href')\n",
    "        #if \"url?q=\" in link_href and not \"webcache\" in link_href:\n",
    "        article.append((link.get('href').split(\"?q=\")[1].split(\"&sa=U\")[0]))\n",
    "\n",
    "    print(len(article))\n",
    "\n",
    "    time.sleep(10)\n",
    "    page = requests.get(f'{article[2]}', headers = header)\n",
    "    soup = BeautifulSoup(page.text, 'html.parser')\n",
    "    text = soup.find('p').getText()\n",
    "    time.sleep(20)\n",
    "    print(text)\n",
    "    \n",
    "    return jsonify(result=text)"
   ]
  },
  {
   "cell_type": "code",
   "execution_count": null,
   "metadata": {},
   "outputs": [],
   "source": []
  }
 ]
}