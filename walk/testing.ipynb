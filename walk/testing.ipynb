{
 "metadata": {
  "language_info": {
   "codemirror_mode": {
    "name": "ipython",
    "version": 3
   },
   "file_extension": ".py",
   "mimetype": "text/x-python",
   "name": "python",
   "nbconvert_exporter": "python",
   "pygments_lexer": "ipython3",
   "version": "3.7.9-final"
  },
  "orig_nbformat": 2,
  "kernelspec": {
   "name": "Python 3.7.9 64-bit ('Art1512': conda)",
   "display_name": "Python 3.7.9 64-bit ('Art1512': conda)",
   "metadata": {
    "interpreter": {
     "hash": "8a9ee9477748b9eb4586e1c8cea3e34f71ab4ea972e6ebe75411973c578029a1"
    }
   }
  }
 },
 "nbformat": 4,
 "nbformat_minor": 2,
 "cells": [
  {
   "cell_type": "code",
   "execution_count": 3,
   "metadata": {},
   "outputs": [],
   "source": [
    "# Dependencies\n",
    "from bs4 import BeautifulSoup\n",
    "import requests\n",
    "import re"
   ]
  },
  {
   "cell_type": "code",
   "execution_count": 4,
   "metadata": {
    "tags": []
   },
   "outputs": [
    {
     "output_type": "stream",
     "name": "stdout",
     "text": [
      "\n\n\n\n\n\n\n\n\n\n\n\n\n\n\n\n\n\n\n\n\n\n\n\n\nUniversity of Illinois at Chicago (UIC) : Rankings, Fees & Courses Details | Top Universities\n\n\n\n\n\n\n\n\n\n\n\n\n\n\n\n\n\n\n\n\n\n\n\n\n\n\n\n\n\n\n\nYou are hereHome > University of Illinois at Chicago (UIC)\n\n\n\n \n\n\n\n\n\nMENU\n\n\nJoin Now / Login\n\nRankingsRankings overview\nQS World University Rankings\nQS World University Rankings by Subject\nQS Business Masters Rankings\nQS Global MBA Rankings\nQS Graduate Employability Rankings\nQS USA University Rankings\nQS University Rankings by Region\nQS University Rankings by Location\nQS Best Student Cities\nQS Top 50 Under 50\nQS System Strength Rankings\nQS Stars Rating System\nQS IGAUGE Rating System\nRelated articles\n\nDiscoverCOVID-19 Information\nCourse Matching Tool\nUniversity search\nSubject guides\nStudy destination guides\nScholarship advice\nWebinars\nBusiness Schools\n\nEventsEvents overview\nQS World Grad School Tour\nQS MBA Events\n\nPrepareCOVID-19 Information\nCourse Matching Tool\nFree test preparation (QS-LEAP)\nChoosing a university\nStudent finance\nPreparing to study abroad\nQS student guides\nBusiness Schools\n\nApplyCOVID-19 Information\nCourse Matching Tool\nUniversity profiles\nAdmissions advice\nQS Scholarships\nApplication Builder\nBusiness Schools\n\nCareersCareers advice\nUK Job search\n\nCommunityCommunity overview\nQ&A forum\nBlog\nUniversity news\nVideos\n\n\n\nQuick Links\nUndergraduate Studies \nPostgraduate Studies \n\n\n\n\n \n\n \n\n\nFind us\n\n\n\n\n\n\n\n\n \nJoin us free\n\n\n\n\n\n\n\n\nUniversity search: X\nStudy Level \nStudy LevelAll study levelsUndergraduatePostgraduate\n\n X\nSubject of interest \nAccounting and FinanceAgriculture & ForestryAnatomy & PhysiologyAnthropologyArchaeologyArchitectureArea StudiesArt & DesignAstronomyBiological SciencesBuilt EnvironmentBusiness & Management StudiesChemistryClassics & Ancient HistoryCommunication and Media StudiesComputer Science and Information SystemsDentistryDevelopment StudiesEarth and Marine SciencesEconomics and EconometricsEducation and TrainingEngineering - AeronauticalEngineering - ChemicalEngineering - Civil and StructuralEngineering - Electrical and ElectronicEngineering - GeneralEngineering - Manufacturing & ProductionEngineering - MechanicalEngineering - Mineral & MiningEngineering - PetroleumEngineering ManagementEnglish Language and LiteratureEnvironmental StudiesEthnicity, Gender and DiversityFinanceGeographyGeologyGeophysicsHospitality & Leisure ManagementHuman Resources ManagementInternational Relations/Studies/AffairsJournalismLaw and Legal StudiesLibrary & Information ManagementLinguisticsLogistics / Supply Chain ManagementMarketingMaterials SciencesMathematicsMedicineMedicine Related StudiesModern LanguagesNursingPerforming ArtsPharmacologyPharmacy & PharmacologyPhilosophyPhysics & AstronomyPoliticsPsychologyPublic PolicySociologySports-related CoursesStatistics and Operational ResearchTheology, Divinity & Religious StudiesUrban PlanningVeterinary ScienceZoology\n\nX\nStudy destination \nAfghanistanAlbaniaAlgeriaArgentinaArmeniaAustraliaAustriaAzerbaijanBahrainBangladeshBarbadosBelarusBelgiumBelizeBoliviaBosnia and HerzegovinaBotswanaBrazilBruneiBulgariaCambodiaCameroonCanadaCentral African RepublicChileChina (Mainland)ColombiaCosta RicaCrimeaCrimeaCroatiaCubaCyprusCzech RepublicDenmarkDjiboutiDominican RepublicEcuadorEgyptEl SalvadorEstoniaEthiopiaFinlandFranceFrench PolynesiaGeorgiaGermanyGhanaGreeceGrenadaGuatemalaGuyanaHaitiHondurasHong Kong SARHungaryIcelandIndiaIndonesiaIran, Islamic Republic ofIraqIrelandIsraelItalyJamaicaJapanJordanKazakhstanKenyaKosovoKosovo, Republic ofKuwaitKyrgyzstanLatviaLebanonLibyaLiechtensteinLithuaniaLuxembourgMacau SARMalaysiaMaltaMauritaniaMauritiusMexicoMoldova, Republic ofMonacoMongoliaMoroccoMozambiqueNamibiaNetherlandsNew CaledoniaNew ZealandNicaraguaNigeriaNorth MacedoniaNorwayOmanPakistanPalestinian Territory, OccupiedPanamaParaguayPeruPhilippinesPolandPortugalPuerto RicoQatarRomaniaRussiaRwandaSaudi ArabiaSenegalSerbiaSingaporeSlovakiaSloveniaSomaliaSouth AfricaSouth KoreaSpainSri LankaSudanSurinameSwedenSwitzerlandSyrian Arab RepublicTaiwanThailandTrinidad and TobagoTunisiaTurkeyUgandaUkraineUnited Arab EmiratesUnited KingdomUnited Kingdom & IrelandUnited StatesUruguayUzbekistanVenezuelaVietnamYemenZimbabwe\n\n\n\n\nSite Search \n\n\n\n\n \n\n\n \n\n \n\n\n\n294246\n\n\n\n\nOVERVIEWUNDERGRADUATEPOSTGRADUATEMORE \n\n\n\nOverview Highlights Locations Similar Universities \n\n\n/sites/all/themes/topuni/assets/images/profile/uni-cover-default.jpg\n/sites/all/themes/topuni/assets/images/profile/uni-cover-default-mobile.jpg\n\n\n\n \n\n\nUniversity of Illinois at Chicago (UIC)\n\n1200 West Harrison Street Chicago, United States View map \n\nUnited States\n\n\n\n Add toshortlist Compare \n\n\n\n\n\n\nQS Global World Ranking\n#=256\n\nStatus\nPublic\n\nResearch Output\nVery High\n\nTotal Students\n28,306\n\nScholarships\nYes\n\nAcademic Faculty Staff\n2,770\n\nInternational Students\n3,394\n \n\n\n\n\n\n\n\n\n  Yassir and 561 others shortlisted this university \n \nShare \n\n  \n \n\n\n\n \nOverview\n\n\n\nABOUT\n\n\n\n\n\n\nLocated in the heart of a world-class city, the University of Illinois at Chicago is Chicago’s largest university and a research institution of growing national and international prominence. Its 16 academic colleges, including seven health sciences colleges and Chicago’s first and only public law school, serve more than 33,000 undergraduate, graduate and professional students. UIC is recognized as one of the most ethnically rich and culturally diverse campuses in the nation. The university is a federally-designated Minority Serving Institution and approximately one-third of undergraduates are first-generation college students.Students benefit from renowned faculty scholars, researchers, artists and clinicians with ties to the corporate, civic and cultural institutions of the Chicago metropolitan area. The city and its culturally-rich neighborhoods are within steps of campus and easily accessible by public transportation.The school is expanding to serve students with state-of-the-art facilities for learning, research and living. A new Engineering Innovation Building provides interdisciplinary exploration and the only high-bay structural lab in northern Illinois. A new 550-bed academic and residential complex is a living and learning center with stellar city views.UIC offers degree programs in applied health sciences; architecture, design and the arts; business administration; dentistry; education; engineering; the graduate college; law; liberal arts and sciences; medicine; nursing; pharmacy; public health; social work; and urban planning and public affairs. Students can choose from doctoral degrees in 66 fields, master’s degrees in 111 fields, bachelor’s degrees in 86 fields and certificates in 66 areas. UIC is the State’s principal educator of health professionals.  \n\n\n\n\n\n\n\n\n \n\n\nUniversity Highlights\n\n\n\nRANKINGS\n\n\nSTUDENTS & STAFF\n\n\nFEES\n\n\n\nUniversity of Illinois at Chicago (UIC) is one of the top Public universities in Chicago, United States. It is ranked #=256 in QS Global World Rankings 2021.\n\n\n\nQS World University Ranking#=256QS WUR By Subject Ranking#40US UNI (universities)#=43Graduate Employability Ranking#161-170\n\n\n\n\n\n\n\nChart\n\n\nData\n\n\n\nTotal students - 28,306 31%PG students 69%UG students\n\n\n\n\nInternational students - 3,394 29%UG students 71%PG students\n\n\n\n\nTotal faculty staff - 2,770 177International staff 2593Domestic staff\n\n\n\n\n\nTotal students - 28,306PG students 31%UG students 69%International students - 3,394UG students 29%PG students 71%Total faculty staff - 2,770Domestic staff 2593International staff 177\n\n\n\n\nScholarshipsOfferedYesThe Scholarships above offer some form of financial aid to prospective students. Please always check the specific requirements and restrictions on scholarship availability.\n\n\n\n\nQS Stars is a rating system that helps you select the right university based on your interests. It provides a detailed look at an institution, identifying which universities rate highest in the specific topics that matter to you, like facilities, graduate employability, social responsibility, inclusiveness, and more.\n\n\nFor more in-depth information about QS Stars, please click here.\n\n\n\n\n\nSimilar Universities\nInterested in studying in United States?Check out our comprehensive guide \n\n\nASU - Thunderbird School of Global ManagementMcIntire School of CommerceGabelli School of Business\nFoisie Business SchoolUniversity of Pennsylvania Graduate School of EducationKansas State University\nThe University of Texas at Austin - McCombs School of BusinessQuestrom School of BusinessThe Wharton School\nDuke Engineering Graduate ProgramsLyle School of EngineeringSan Ignacio University\nNew York University Tandon School of EngineeringPennsylvania State University: Smeal College of BusinessZicklin School of Business\nGeorge Washington UniversityGeorge Washington University School of BusinessMaryland Institute College of Art\n\n \n\nRelated content\n\n\n\n\n\nHow to Get a UK Student VisaWant to study in the UK? Find out whether you need to apply for a U...\nStudy in CaliforniaDiscover the QS rankings for top universities in the USA 2020\nThere...\nStudy in TexasDiscover the QS rankings for top universities in the USA 2020\nWant...\nMedical Degrees: Regional DifferencesMedical degrees vary significantly in different countries.\nThe most...\nStudy in IllinoisSituated in the Great Lakes region in the US, the state of Illinois...\nStudy in New YorkNew York State has a lot to offer: world-renowned universities, inc... \n\n\n \n\nCampus Locations\n\n\n\n\n\n\n\n\n\n University of Illinois, Chicago (UIC) \n\n1200 West Harrison StreetChicago, Illinois 60607United States \n View map  \n\n \n \n\n\nEnglish language requirements\n\nThis institution accepts IELTS!  Find your nearest test centre and test dates.Please check the specific English language requirements for your chosen course with the university. \n\n\n\n\n\n\n\n\n \n\n\n\n\n\n \n\nSponsored University\n\n\n\n\n\n\n \n\nNUS Business School\n\n\nUndergraduate2 Courses\nPostgraduate8 Courses\nScholarship\n\nYes \n\n\n\n \n\nGet Free Updates\n\n\nSign up to our monthly newsletter to receive regular content highlights direct to your inbox.\nSign up now! \n\n\n\nTest Preparation\n\n\nJoin QS Leap, the most advanced free test-prep platform in the world.\nGet Started \n\n\n\n\n\n\n\n \n\n\n\n\n\n \n\n\n\n\n\n\n\n\nx\n\n\n\nUnlock this video to get all  QS Crimson content!\nSpeed up registration - sign-in using Facebook Google\nFirst name* *\n\n\n\n\nCRM lead source\n\n\n\n\n\nhow you \n\nHow are you feeling today?\n\n\nLast name* *\n\n\n\n\nEmail* *\n\n\n\n\n\nUse at least 6 characters and one numeral\n\nSource \n\n\n\nYou are a... \n- None - I'm a student I'm a parent\n\n\nI confirm that I am over 16 years old and I am happy to receive newsletters and up-to-date information about Top Universities, Top MBA and QS Leap. I understand that my data will be held for as long as I am registered with the site and I will continue to receive such communications until I amend my user profile.* *\n\nYes \n\n\nNo \n\n\n\nUser Agreement | Privacy Policy | Cookie Policy* Required fieldsAlready registered? Click here to log in!\nLeave this field blank \n\n\nSign in using: Facebook Google\n\n\nhow you \n\nHow are you feeling today?\n\n\n\n\n\n\n\nForgot password?Existing LinkedIn user? Please reset password to sign-in. \n\n\n\n\n\n\n\n\nx\n\n\n\n\n\n\n\nJoin us to explore this university\n\n\nYou also get to:\n\nFind your perfect University program with our matching tool\nMeet and apply to universities\nConnect with peers\n\n\n\n\n\n\n\n\nJoin us to explore this university\n\n\n\n\n\nYou also get to:\n\nFind your perfect University program with our matching tool\nMeet and apply to universities\nConnect with peers\n\n\n\n\n\n\n\n\n\n\nSign in\nJoin us\n\n\nStep 1 of 2: Join usJoin us using: Facebook Google\nFirst name* *\n\n\n\n\nCRM lead source\n\n\n\n\n\nhow you \n\nHow are you feeling today?\n\n\nLast name* *\n\n\n\n\nEmail* *\n\n\n\n\n\nUse at least 6 characters and one numeral\n\nSource \n\n\n\nI confirm that I am over 16 years old and I am happy to receive newsletters and up-to-date information about Top Universities, Top MBA and QS Leap. I understand that my data will be held for as long as I am registered with the site and I will continue to receive such communications until I amend my user profile.* *\n\nYes \n\n\nNo \n\n\n\n\nI am happy to receive information from universities, our media partners and other 3rd party opportunities.* \n\nYes \n\n\nNo \n\n\n\nUser Agreement | Privacy Policy | Cookie Policy\nLeave this field blank \n\n\n* Required\nStep 1 of 2: Sign inSign in using: Facebook Google\n\n\n\nhow you \n\nHow are you feeling today?\n\n\n\n\n\n\n\nForgot password?Existing LinkedIn user? Please reset password to sign-in.*Required\n\n\n\n\n\n \n\n\n \n\n\n\n\n\n\n\n\n\n\n\n\n\n\nRankingsRankings Overview\nQS World University Rankings\nQS World University Rankings by Subject\nQS Graduate Employability Rankings\nQS USA University Rankings\nQS University Rankings by Region\nQS University Rankings by Location\nQS Best Student Cities\nQS Global MBA Rankings\nQS Business Masters Rankings\nQS Top 50 Under 50\nQS System Strength Rankings\nQS Stars Rating System\nRelated articles\nQS IGAUGE Rating System\n\n \n\n\n\n\n\n\n\nDiscoverCOVID-19 Information\nCourse matching tool\nUniversity search\nSubject guides\nStudy destination guides\nScholarship advice\nWebinars\n\n \n\n\n\n\n\n\n\nEventsEvents overview\nQS World Grad School Tour\nQS World MBA Tour\nQS Connect MBA\n\n \n\n\n\n\n\n\n\nPrepareCOVID-19 Information\nFree test preparation (QS-LEAP)\nChoosing a university\nStudent finance\nPreparing to study abroad\nQS student guides\n\n \n\n\n\n\n\n\n\nApplyCOVID-19 Information\nUniversity profiles\nAdmissions advice\nQS Scholarships\nScholarship winners\n\n \n\n\n\n\n\n\n\nCareersCareers advice\nUK Job search\n\n \n\n\n\n\n\n\n\nCommunityCommunity overview\nQ&A forum\nBlog\nUniversity news\nVideos\n\n \n\n\n\n\n\n\n\n\n\n\n\nAbout Contact Privacy Users Cookies \n© QS Quacquarelli Symonds Limited 1994 - 2020. All rights reserved. \n\n\n\n\n\n\n\n\n\n\n\n\nSucceed with our top tips on admissions, jobs and student life\n\n Join us free\nNo thanks\n\n\n\n\n\n\n\n\nx\n\n\n\n\n\n\nJoin us to start your higher education journey\n\n\nYou also get to:\n\nFind your perfect School and Program with our matching tool\nMeet Schools at our worldwide Events\nConnect with other students on our forums\n\n\n\n\n\n\n\nJoin us to start your higher education journey\n\n\n\n\n\nYou also get to:\n\nFind your perfect School and Program with our matching tool\nMeet Schools at our worldwide Events\nConnect with other students on our forums\n\n\n\n\n\n\n\n\n\nSign in\nJoin us\n\n\nStep 1 of 2: Join usJoin us using: Facebook Google\nFirst name* *\n\n\n\n\nCRM lead source\n\n\n\n\n\nhow you \n\nHow are you feeling today?\n\n\nLast name* *\n\n\n\n\nEmail* *\n\n\n\n\n\nUse at least 6 characters and one numeral\n\nSource \n\n\n\nI confirm that I am over 16 years old and I am happy to receive newsletters and up-to-date information about Top Universities, Top MBA and QS Leap. I understand that my data will be held for as long as I am registered with the site and I will continue to receive such communications until I amend my user profile.* *\n\nYes \n\n\nNo \n\n\n\n\nI am happy to receive information from universities, our media partners and other 3rd party opportunities.* \n\nYes \n\n\nNo \n\n\n\nUser Agreement | Privacy Policy | Cookie Policy\nLeave this field blank \n\n\n* Required\nSign in using: Facebook Google\n\n\n\nhow you \n\nHow are you feeling today?\n\n\n\n\n\n\n\nForgot password?Existing LinkedIn user? Please reset password to sign-in.*Required\n\n\n\n\n\n\n\n\n\n\n\n\n\n\n\n\n\n\nMain menu\nRankingsRankings overviewQS World University RankingsQS World University Rankings by SubjectQS Business Masters RankingsQS Global MBA RankingsQS Graduate Employability RankingsQS USA University RankingsQS University Rankings by RegionQS University Rankings by LocationQS Best Student CitiesQS Top 50 Under 50QS System Strength RankingsQS Stars Rating SystemQS IGAUGE Rating SystemRelated articlesDiscoverCOVID-19 InformationCourse Matching ToolUniversity searchSubject guidesStudy destination guidesScholarship adviceWebinarsBusiness SchoolsEventsEvents overviewQS World Grad School TourQS MBA EventsPrepareCOVID-19 InformationCourse Matching ToolFree test preparation (QS-LEAP)Choosing a universityStudent financePreparing to study abroadQS student guidesBusiness SchoolsApplyCOVID-19 InformationCourse Matching ToolUniversity profilesAdmissions adviceQS ScholarshipsApplication BuilderBusiness SchoolsCareersCareers adviceUK Job searchCommunityCommunity overviewQ&A forumBlogUniversity newsVideos \n\n\n\n\n\n\n\n\n\n\n\n\n\n\n\n\n\n\n\n\n\n\n\n \n\n\n\n"
     ]
    }
   ],
   "source": [
    "#Set up list\n",
    "gallery = \"gallery&400\"\n",
    "UIC = 'UIC'\n",
    "chicago = 'chicago'\n",
    "usa = 'usa'\n",
    "\n",
    "\n",
    "\n",
    "#get number\n",
    "number = 40\n",
    "\n",
    "\n",
    "\n",
    "\n",
    "\n",
    "\n",
    "\n",
    "\n",
    "\n",
    "\n",
    "\n",
    "\n",
    "\n",
    "#move through list\n",
    "search = UIC\n",
    "article = []\n",
    "results = 100 # valid options 10, 20, 30, 40, 50, and 100\n",
    "page = requests.get(f\"https://www.google.com/search?q={search}&num={results}\")\n",
    "soup = BeautifulSoup(page.content, \"html.parser\")\n",
    "links = soup.findAll(\"a\")\n",
    "#for link in links :\n",
    " #   link_href = link.get('href')\n",
    "  #  if \"url?q=\" in link_href and not \"webcache\" in link_href:\n",
    "   #     article.append((link.get('href').split(\"?q=\")[1].split(\"&sa=U\")[0]))\n",
    "\n",
    "page = requests.get(f'{article[number]}')\n",
    "soup = BeautifulSoup(page.text, 'html.parser')\n",
    "print(soup.text)\n",
    "\n"
   ]
  },
  {
   "cell_type": "code",
   "execution_count": 24,
   "metadata": {
    "tags": []
   },
   "outputs": [
    {
     "output_type": "stream",
     "name": "stdout",
     "text": [
      "[<li class=\"yNFsl SkUj4c\">Any time</li>, <li class=\"yNFsl\"><a href=\"/search?q=nba&amp;rlz=1C1CHBF_enUS890US890&amp;ie=UTF-8&amp;source=lnt&amp;tbs=qdr:h&amp;sa=X&amp;ved=0ahUKEwj4pOyl6a_sAhVECM0KHVpTAewQpwUIDw\">Past hour</a></li>, <li class=\"yNFsl\"><a href=\"/search?q=nba&amp;rlz=1C1CHBF_enUS890US890&amp;ie=UTF-8&amp;source=lnt&amp;tbs=qdr:d&amp;sa=X&amp;ved=0ahUKEwj4pOyl6a_sAhVECM0KHVpTAewQpwUIEA\">Past 24 hours</a></li>, <li class=\"yNFsl\"><a href=\"/search?q=nba&amp;rlz=1C1CHBF_enUS890US890&amp;ie=UTF-8&amp;source=lnt&amp;tbs=qdr:w&amp;sa=X&amp;ved=0ahUKEwj4pOyl6a_sAhVECM0KHVpTAewQpwUIEQ\">Past week</a></li>, <li class=\"yNFsl\"><a href=\"/search?q=nba&amp;rlz=1C1CHBF_enUS890US890&amp;ie=UTF-8&amp;source=lnt&amp;tbs=qdr:m&amp;sa=X&amp;ved=0ahUKEwj4pOyl6a_sAhVECM0KHVpTAewQpwUIEg\">Past month</a></li>, <li class=\"yNFsl\"><a href=\"/search?q=nba&amp;rlz=1C1CHBF_enUS890US890&amp;ie=UTF-8&amp;source=lnt&amp;tbs=qdr:y&amp;sa=X&amp;ved=0ahUKEwj4pOyl6a_sAhVECM0KHVpTAewQpwUIEw\">Past year</a></li>, <li class=\"yNFsl SkUj4c\">All results</li>, <li class=\"yNFsl\"><a href=\"/search?q=nba&amp;rlz=1C1CHBF_enUS890US890&amp;ie=UTF-8&amp;source=lnt&amp;tbs=li:1&amp;sa=X&amp;ved=0ahUKEwj4pOyl6a_sAhVECM0KHVpTAewQpwUIFQ\">Verbatim</a></li>]\n"
     ]
    }
   ],
   "source": [
    "page = requests.get(\"https://www.google.com/search?q=nba&rlz=1C1CHBF_enUS890US890&oq=nba&aqs=chrome..69i57j0l6.1406j1j4&sourceid=chrome&ie=UTF-8#sie=lg;/g/11h0yj414v;3;/m/05jvx;mt;fp;1;;\")\n",
    "\n",
    "soup = BeautifulSoup(page.content, \"html.parser\")\n",
    "li = soup.findAll(\"li\")\n",
    "print(li)\n",
    "\n"
   ]
  },
  {
   "cell_type": "code",
   "execution_count": 10,
   "metadata": {},
   "outputs": [
    {
     "output_type": "stream",
     "name": "stdout",
     "text": [
      "7\n"
     ]
    }
   ],
   "source": []
  },
  {
   "cell_type": "code",
   "execution_count": null,
   "metadata": {},
   "outputs": [],
   "source": []
  }
 ]
}